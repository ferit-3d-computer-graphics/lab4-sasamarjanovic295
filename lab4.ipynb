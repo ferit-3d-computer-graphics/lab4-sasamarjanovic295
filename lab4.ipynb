{
 "cells": [
  {
   "cell_type": "markdown",
   "id": "fb99dd01-18f1-4b60-9e2c-848b7f30f5dd",
   "metadata": {},
   "source": [
    "# Lab 4: Scalar Fields and Surface Extraction"
   ]
  },
  {
   "cell_type": "markdown",
   "id": "77fe3209-2de0-4881-b880-31ee317e0349",
   "metadata": {},
   "source": [
    "---\n",
    "\n",
    "This lab introduces students to scalar field visualization through interactive volume rendering and surface extraction using K3D. Scalar fields are 3D grids where each voxel stores a scalar value, such as temperature, pressure, or density. Students will explore how to convert such data into meaningful visual representations using volume rendering and the Marching Cubes algorithm — a standard technique for extracting surfaces from volumetric data.\n",
    "\n",
    "Students will also learn how to attach per-vertex attributes (like color or classification) to the generated surfaces and how to experiment with thresholding, non-uniform data, and animation of scalar fields."
   ]
  },
  {
   "cell_type": "markdown",
   "id": "058edba7-5e8e-4d58-99a4-fb7b4153366f",
   "metadata": {},
   "source": [
    "---\n",
    "\n",
    "Learning objectives\n",
    "\n",
    "By the end of this lab, students will be able to:\n",
    "- Visualize scalar fields using 3D volume rendering techniques.\n",
    "- Apply the Marching Cubes algorithm to extract isosurfaces.\n",
    "- Attach metadata (e.g., color, labels) to surfaces and analyze attributes.\n",
    "- Compare uniform vs. non-uniform scalar data behavior."
   ]
  },
  {
   "cell_type": "markdown",
   "id": "e5e109db-5e95-47c8-8377-05581e480b2d",
   "metadata": {},
   "source": [
    "---\n",
    "\n",
    "## Theoretical Background: Scalar Fields and Surface Extraction\n",
    "\n",
    "A scalar field is a three-dimensional function that assigns a single scalar value to every point in a volumetric space. These values often represent physical quantities such as temperature, pressure, or density, and are stored in a regular 3D grid called a voxel grid. Visualizing scalar fields is essential for interpreting spatially varying data in scientific and engineering applications.\n",
    "\n",
    "One common method of scalar field visualization is **volume rendering**, which displays the entire data volume with color and transparency to reveal internal structures. Another key technique is **surface extraction**, which involves identifying and rendering surfaces that represent locations of constant scalar value—called **isosurfaces**. The most widely used algorithm for this purpose is the **Marching Cubes algorithm**, which analyzes each voxel cell and constructs a triangulated surface where the scalar field crosses a specified threshold. This extracted surface can then be further analyzed, rendered, or colored based on additional attributes such as height, curvature, or classification labels.\n",
    "\n",
    "Together, these techniques provide a powerful means of exploring complex volumetric data and turning abstract scalar values into interpretable 3D visual forms.\n",
    "\n",
    "---"
   ]
  },
  {
   "cell_type": "markdown",
   "id": "922f5a85-5f88-4e87-ba0d-985d7fc7f949",
   "metadata": {},
   "source": [
    "---\n",
    "\n",
    "### Volume Rendering\n",
    "\n",
    "Volume rendering is a sophisticated technique in computer graphics and scientific visualization that enables the depiction of three-dimensional scalar fields by projecting them onto two-dimensional displays. This method is pivotal in fields such as medical imaging, computational fluid dynamics, and geosciences, where understanding the internal structures of volumetric data is essential.\n",
    "\n",
    "**Fundamental Concepts:**\n",
    "\n",
    "- Voxel Representation: The foundational element of volume rendering is the voxel (volumetric pixel), representing data points on a 3D grid. Each voxel contains scalar values corresponding to properties like density, temperature, or opacity.​\n",
    "- Transfer Functions: These functions map voxel data to optical properties such as color and transparency, facilitating the differentiation of structures within the volume. By adjusting transfer functions, specific features can be highlighted or suppressed, enhancing the interpretability of complex data.​\n",
    "Autodesk\n",
    "\n",
    "**Rendering Techniques:**\n",
    "\n",
    "- Ray Casting: A prevalent approach where rays are projected from the viewpoint into the volume. As each ray traverses the volume, it samples data at discrete intervals, accumulating color and opacity values based on the transfer function. This accumulation determines the final pixel color displayed on the screen.\n",
    "- Splatting: This technique projects voxels onto the image plane as \"splats\" or footprints, effectively distributing their energy contribution to the surrounding pixels. Splatting can offer performance advantages, especially in interactive applications.​\n",
    "\n",
    "**Mathematical Foundation:**\n",
    "\n",
    "The process of volume rendering is governed by the Volume Rendering Equation (VRE), which models the interaction of light with the volumetric medium. The VRE accounts for emission, absorption, and scattering of light as it passes through the volume, providing a comprehensive framework for simulating realistic visualizations.​\n",
    "\n",
    "**Applications:**\n",
    "\n",
    "- Medical Imaging: Volume rendering is extensively used to visualize complex anatomical structures from imaging modalities like MRI and CT scans, aiding in diagnosis and surgical planning.​\n",
    "- Scientific Research: In fields such as astrophysics and meteorology, volume rendering facilitates the exploration of phenomena like nebulae formations or storm systems by providing intuitive visual representations of simulation data.​\n",
    "\n",
    "![screenshot_1744104010894.png](<https://media-hosting.imagekit.io/aebbc7c7a1f14444/screenshot_1744104010894.png?Expires=1838712015&Key-Pair-Id=K2ZIVPTIP2VGHC&Signature=uYjHCmnUx4pz-PtyTx6piOrnkmUcvbANdb51cBzkLYMxpHQhUFf19m4H-1iI0Bd8mly2vpONYgfUBXp0DH7tLH5bEeL9VlbRpjIHKajxpED0iVc8jkS3l5rzw2gWUcgwpPCnPWUmzW7ASvNzyEmFNSOGLJAyWF8iWkK1IK02htZAvJdqo235siQZ2NqQmu16M4quySwN2qbJFbU5m980t7Ou6-1tHR4V6vTO9PyuZQLcGEjvwrucTEeAiSDDygxjUfajn6Tl3IpBD65g2R0mUs~2mefJJgiRMP1cMWIO~bNaAOvBWpnAXmbDBTn6tPqmhV8T16Fb75mhZYT2Ralpmg__>)\n",
    "\n",
    "By leveraging volume rendering techniques, professionals can gain deeper insights into three-dimensional data, leading to more informed analyses and decisions across various scientific and medical domains\n",
    "\n",
    "Therefore, volume rendering is a technique used to visualize 3D scalar fields without explicitly extracting geometric surfaces. Unlike traditional surface rendering, which relies on creating mesh representations of data (e.g., via the Marching Cubes algorithm), volume rendering works by projecting and accumulating data values directly along the viewer’s line of sight. Each voxel in the volume contributes color and opacity based on its scalar value and its position within the volume.\n",
    "\n",
    "This technique simulates the behavior of light as it passes through semi-transparent materials, making it ideal for visualizing complex internal structures within a dataset, such as organs in medical imaging or temperature gradients in fluid simulations. Transfer functions are typically used to map scalar values to color and transparency, allowing users to highlight specific value ranges and reveal hidden structures.\n",
    "\n",
    "Volume rendering is particularly powerful because it can represent subtle, continuous variations in data and visualize nested features within a scalar field, all without the need for surface extraction or segmentation.\n",
    "\n",
    "---\n"
   ]
  },
  {
   "cell_type": "markdown",
   "id": "ced938c0-1e0f-4a0b-b5f5-770d593ccec8",
   "metadata": {},
   "source": [
    "---\n",
    "\n",
    "### Surface Extraction\n",
    "\n",
    "Surface extraction is the process of identifying and generating geometric representations of boundaries within volumetric scalar fields. These boundaries, known as **isosurfaces**, represent points in 3D space where the scalar field equals a constant value, such as a specific temperature or pressure threshold. Surface extraction provides a way to simplify and interpret volumetric data by transforming it into a tangible, viewable surface.\n",
    "\n",
    "One of the most commonly used algorithms for surface extraction is the **Marching Cubes algorithm**, which systematically examines small cubes of adjacent voxels in the 3D grid. It then determines where the isosurface intersects each cube by comparing scalar values at the cube's corners to the desired threshold. Based on predefined patterns, it generates triangles that approximate the surface within each cube. The final result is a smooth mesh that visually represents a continuous surface embedded in the volume.\n",
    "\n",
    "Surface extraction is widely used in medical imaging (e.g., CT or MRI scans), fluid simulations, and scientific visualization to make complex data comprehensible and suitable for further analysis or 3D rendering.\n",
    "\n",
    "---"
   ]
  },
  {
   "cell_type": "markdown",
   "id": "8f2814cd-bbd8-4677-96ea-3c19b7f56301",
   "metadata": {},
   "source": [
    "---\n",
    "\n",
    "### Marching Cubes Algorithm\n",
    "\n",
    "The Marching Cubes algorithm is a fundamental technique used in computer graphics and scientific visualization to extract isosurfaces from volumetric scalar fields. Developed by Lorensen and Cline in 1987, the algorithm processes a 3D scalar field by iterating over each cube-shaped group of eight neighboring voxels (a \"voxel cube\") in the grid. For each cube, the scalar values at the corners are compared to a user-defined threshold (isosurface level) to determine where the surface intersects the cube.\n",
    "\n",
    "There are 256 possible configurations of inside/outside states for the cube’s corners, but due to symmetries, these can be reduced to 15 unique cases. A lookup table defines how to triangulate each case, allowing the algorithm to generate a set of triangles that approximate the isosurface within each cube. The result is a smooth, continuous surface mesh that follows the contours of the data.\n",
    "\n",
    "Marching Cubes is widely used in medical imaging (e.g., reconstructing anatomical surfaces from MRI or CT data), simulation data analysis, and 3D modeling. It is favored for its efficiency, simplicity, and ability to produce high-quality surfaces from complex volumetric data.\n",
    "\n",
    "Check out this video to see how Marching Cube algorithm works: \n",
    "\n",
    "[![Marching Cubes Animation](https://img.youtube.com/vi/B_xk71YopsA/0.jpg)](https://www.youtube.com/watch?v=B_xk71YopsA)\n",
    "\n",
    "---"
   ]
  },
  {
   "cell_type": "code",
   "execution_count": 8,
   "id": "8dac9728-313a-4bdc-b637-fb5fc0f9a843",
   "metadata": {},
   "outputs": [
    {
     "name": "stdout",
     "output_type": "stream",
     "text": [
      "Requirement already satisfied: k3d in c:\\users\\arija\\anaconda3\\lib\\site-packages (2.16.1)\n",
      "Requirement already satisfied: ipywidgets<9.0.0,>=7.0.0 in c:\\users\\arija\\anaconda3\\lib\\site-packages (from k3d) (8.1.5)\n",
      "Requirement already satisfied: msgpack in c:\\users\\arija\\anaconda3\\lib\\site-packages (from k3d) (1.0.3)\n",
      "Requirement already satisfied: numpy in c:\\users\\arija\\anaconda3\\lib\\site-packages (from k3d) (1.26.4)\n",
      "Requirement already satisfied: traitlets in c:\\users\\arija\\anaconda3\\lib\\site-packages (from k3d) (5.14.3)\n",
      "Requirement already satisfied: traittypes in c:\\users\\arija\\anaconda3\\lib\\site-packages (from k3d) (0.2.1)\n",
      "Requirement already satisfied: comm>=0.1.3 in c:\\users\\arija\\anaconda3\\lib\\site-packages (from ipywidgets<9.0.0,>=7.0.0->k3d) (0.2.1)\n",
      "Requirement already satisfied: ipython>=6.1.0 in c:\\users\\arija\\anaconda3\\lib\\site-packages (from ipywidgets<9.0.0,>=7.0.0->k3d) (8.27.0)\n",
      "Requirement already satisfied: widgetsnbextension~=4.0.12 in c:\\users\\arija\\anaconda3\\lib\\site-packages (from ipywidgets<9.0.0,>=7.0.0->k3d) (4.0.13)\n",
      "Requirement already satisfied: jupyterlab-widgets~=3.0.12 in c:\\users\\arija\\anaconda3\\lib\\site-packages (from ipywidgets<9.0.0,>=7.0.0->k3d) (3.0.13)\n",
      "Requirement already satisfied: decorator in c:\\users\\arija\\anaconda3\\lib\\site-packages (from ipython>=6.1.0->ipywidgets<9.0.0,>=7.0.0->k3d) (5.1.1)\n",
      "Requirement already satisfied: jedi>=0.16 in c:\\users\\arija\\anaconda3\\lib\\site-packages (from ipython>=6.1.0->ipywidgets<9.0.0,>=7.0.0->k3d) (0.19.1)\n",
      "Requirement already satisfied: matplotlib-inline in c:\\users\\arija\\anaconda3\\lib\\site-packages (from ipython>=6.1.0->ipywidgets<9.0.0,>=7.0.0->k3d) (0.1.6)\n",
      "Requirement already satisfied: prompt-toolkit<3.1.0,>=3.0.41 in c:\\users\\arija\\anaconda3\\lib\\site-packages (from ipython>=6.1.0->ipywidgets<9.0.0,>=7.0.0->k3d) (3.0.43)\n",
      "Requirement already satisfied: pygments>=2.4.0 in c:\\users\\arija\\anaconda3\\lib\\site-packages (from ipython>=6.1.0->ipywidgets<9.0.0,>=7.0.0->k3d) (2.15.1)\n",
      "Requirement already satisfied: stack-data in c:\\users\\arija\\anaconda3\\lib\\site-packages (from ipython>=6.1.0->ipywidgets<9.0.0,>=7.0.0->k3d) (0.2.0)\n",
      "Requirement already satisfied: colorama in c:\\users\\arija\\anaconda3\\lib\\site-packages (from ipython>=6.1.0->ipywidgets<9.0.0,>=7.0.0->k3d) (0.4.6)\n",
      "Requirement already satisfied: parso<0.9.0,>=0.8.3 in c:\\users\\arija\\anaconda3\\lib\\site-packages (from jedi>=0.16->ipython>=6.1.0->ipywidgets<9.0.0,>=7.0.0->k3d) (0.8.3)\n",
      "Requirement already satisfied: wcwidth in c:\\users\\arija\\anaconda3\\lib\\site-packages (from prompt-toolkit<3.1.0,>=3.0.41->ipython>=6.1.0->ipywidgets<9.0.0,>=7.0.0->k3d) (0.2.5)\n",
      "Requirement already satisfied: executing in c:\\users\\arija\\anaconda3\\lib\\site-packages (from stack-data->ipython>=6.1.0->ipywidgets<9.0.0,>=7.0.0->k3d) (0.8.3)\n",
      "Requirement already satisfied: asttokens in c:\\users\\arija\\anaconda3\\lib\\site-packages (from stack-data->ipython>=6.1.0->ipywidgets<9.0.0,>=7.0.0->k3d) (2.0.5)\n",
      "Requirement already satisfied: pure-eval in c:\\users\\arija\\anaconda3\\lib\\site-packages (from stack-data->ipython>=6.1.0->ipywidgets<9.0.0,>=7.0.0->k3d) (0.2.2)\n",
      "Requirement already satisfied: six in c:\\users\\arija\\anaconda3\\lib\\site-packages (from asttokens->stack-data->ipython>=6.1.0->ipywidgets<9.0.0,>=7.0.0->k3d) (1.16.0)\n"
     ]
    }
   ],
   "source": [
    "!pip install k3d"
   ]
  },
  {
   "cell_type": "code",
   "execution_count": 5,
   "id": "561e574e-544d-45f0-8b99-b49553922404",
   "metadata": {},
   "outputs": [],
   "source": [
    "import k3d\n",
    "import numpy as np"
   ]
  },
  {
   "cell_type": "markdown",
   "id": "0467a630-b94e-46e3-978e-fa708c297e6b",
   "metadata": {},
   "source": [
    "---\n",
    "\n",
    "## Example 1: Volume Rendering of a Scalar Field (Stable)\n",
    "\n",
    "This example demonstrates how to visualize the internal structure of a 3D scalar field using volume rendering — a technique that does not require surface extraction or meshing. Instead, each voxel in the 3D grid contributes color and opacity to the final image, depending on its scalar value. This allows users to see inside the volume and observe how values are distributed throughout the space. In this case, a spherical scalar gradient is used to simulate a volumetric density field. The result is a semi-transparent rendering where high-density regions near the center appear more prominently, and lower-density regions fade into the background. Volume rendering is particularly effective for representing medical scans, fluid dynamics, or any field with smoothly varying internal properties."
   ]
  },
  {
   "cell_type": "code",
   "execution_count": 2,
   "id": "d631aecb-93cb-4eab-87b9-01fa01385d0a",
   "metadata": {},
   "outputs": [
    {
     "data": {
      "application/vnd.jupyter.widget-view+json": {
       "model_id": "55783e46c72e4903984a572ca723b987",
       "version_major": 2,
       "version_minor": 0
      },
      "text/plain": [
       "Output()"
      ]
     },
     "metadata": {},
     "output_type": "display_data"
    }
   ],
   "source": [
    "import k3d\n",
    "import numpy as np\n",
    "\n",
    "# Create a scalar field (a spherical gradient)\n",
    "size = 32\n",
    "x, y, z = np.indices((size, size, size))\n",
    "center = size // 2\n",
    "field = np.sqrt((x - center)**2 + (y - center)**2 + (z - center)**2)\n",
    "\n",
    "# Normalize to 0–1\n",
    "field = (field - field.min()) / field.ptp()\n",
    "\n",
    "plot = k3d.plot()\n",
    "plot += k3d.volume(field.astype(np.float32))\n",
    "plot.display()"
   ]
  },
  {
   "cell_type": "markdown",
   "id": "370de93d-2df2-4785-a5a4-871251e3bd97",
   "metadata": {},
   "source": [
    "---\n",
    "\n",
    "## Example 2: Extract and Color a Wavy Surface (Mesh-Based, No Marching Cubes)\n",
    "\n",
    "This example shows how to visualize a continuous 3D surface by directly generating a mesh from a mathematical function, without relying on volumetric data or the Marching Cubes algorithm. A 2D grid of points is used to define the X and Y positions, while the Z-values are calculated using a wave-like function such as `z = sin(x² + y²)`. These points are then connected into triangles to form a mesh. To enhance the visualization, each vertex is colored based on its height (Z-value), creating a smooth color gradient that reflects the shape of the surface. This technique is efficient, flexible, and ideal for visualizing mathematical surfaces, terrain models, or scalar fields sampled on a regular grid.\n",
    "\n",
    "Now, we will generate a wavy surface from a 2D grid and assign colors based on height (Z)."
   ]
  },
  {
   "cell_type": "code",
   "execution_count": 54,
   "id": "03fb1287-d44b-40ac-ac36-7a47a09a9372",
   "metadata": {},
   "outputs": [
    {
     "data": {
      "application/vnd.jupyter.widget-view+json": {
       "model_id": "b6bb1b5bd20e4408909b7faf7060cae5",
       "version_major": 2,
       "version_minor": 0
      },
      "text/plain": [
       "Output()"
      ]
     },
     "metadata": {},
     "output_type": "display_data"
    }
   ],
   "source": [
    "import k3d\n",
    "import numpy as np\n",
    "\n",
    "# Create a wavy 2D scalar field\n",
    "x, y = np.meshgrid(np.linspace(-2, 2, 40), np.linspace(-2, 2, 40))\n",
    "z = np.sin(x**2 + y**2)\n",
    "\n",
    "vertices = np.stack((x.ravel(), y.ravel(), z.ravel()), axis=1)\n",
    "\n",
    "# Generate triangle indices\n",
    "faces = []\n",
    "res = x.shape[0]\n",
    "for i in range(res - 1):\n",
    "    for j in range(res - 1):\n",
    "        idx = i * res + j\n",
    "        faces.append([idx, idx + 1, idx + res])\n",
    "        faces.append([idx + 1, idx + res + 1, idx + res])\n",
    "faces = np.array(faces, dtype=np.uint32)\n",
    "\n",
    "# Normalize Z-values and map them to vertex colors\n",
    "z_flat = z.ravel()\n",
    "z_norm = (z_flat - z_flat.min()) / z_flat.ptp()\n",
    "colors = (z_norm * 0xFFFFFF).astype(np.uint32)\n",
    "\n",
    "plot = k3d.plot()\n",
    "plot += k3d.mesh(vertices=vertices.astype(np.float32), indices=faces, colors=colors)\n",
    "plot.display()"
   ]
  },
  {
   "cell_type": "markdown",
   "id": "e63bf0ff-e3a8-4507-aedc-e8225dc4971b",
   "metadata": {},
   "source": [
    "---\n",
    "\n",
    "## Example 3: Animate Scalar Field Over Time\n",
    "\n",
    "Animating a scalar field over time allows for dynamic visualization of how data evolves in a 3D space. In this example, a time-dependent mathematical function, such as a sine wave, is used to update the scalar values across a mesh. At each time step, the Z-values of the surface change, simulating motion like rippling water or a breathing membrane. By updating both the geometry and the color of the mesh in real-time, students can observe how the scalar field's structure changes and flows. This approach is especially useful in simulations where values fluctuate over time, such as wave propagation, heat diffusion, or vibration analysis, offering an engaging and intuitive way to explore time-varying data.\n"
   ]
  },
  {
   "cell_type": "code",
   "execution_count": 7,
   "id": "bd1de877-24a4-42f3-be78-554bfce08fce",
   "metadata": {},
   "outputs": [
    {
     "data": {
      "application/vnd.jupyter.widget-view+json": {
       "model_id": "0b5c815f552c4bc0b51065b5faeb0cff",
       "version_major": 2,
       "version_minor": 0
      },
      "text/plain": [
       "Output()"
      ]
     },
     "metadata": {},
     "output_type": "display_data"
    }
   ],
   "source": [
    "import time\n",
    "\n",
    "plot = k3d.plot()\n",
    "\n",
    "# Static X, Y mesh\n",
    "x, y = np.meshgrid(np.linspace(-2, 2, 40), np.linspace(-2, 2, 40))\n",
    "res = x.shape[0]\n",
    "faces = []\n",
    "for i in range(res - 1):\n",
    "    for j in range(res - 1):\n",
    "        idx = i * res + j\n",
    "        faces.append([idx, idx + 1, idx + res])\n",
    "        faces.append([idx + 1, idx + res + 1, idx + res])\n",
    "faces = np.array(faces, dtype=np.uint32)\n",
    "\n",
    "# Initial Z\n",
    "z = np.sin(x**2 + y**2)\n",
    "vertices = np.stack((x.ravel(), y.ravel(), z.ravel()), axis=1)\n",
    "\n",
    "mesh = k3d.mesh(vertices.astype(np.float32), indices=faces)\n",
    "plot += mesh\n",
    "plot.display()\n",
    "\n",
    "# Animate wave\n",
    "for t in range(60):\n",
    "    z = np.sin(x**2 + y**2 - t * 0.2)\n",
    "    vertices = np.stack((x.ravel(), y.ravel(), z.ravel()), axis=1)\n",
    "    mesh.vertices = vertices.astype(np.float32)\n",
    "    time.sleep(0.05)"
   ]
  },
  {
   "cell_type": "markdown",
   "id": "7b8a91b7-d071-4c97-9e49-967046eff8a7",
   "metadata": {},
   "source": [
    "---\n",
    "\n",
    "## Example 4: Volume Rendering with Noise-Based Scalar Field\n",
    "\n",
    "This example demonstrates how to visualize a 3D scalar field generated from random noise using volume rendering. Instead of a smooth, structured function, the scalar values in this case are assigned randomly throughout the voxel grid, simulating a cloud-like or turbulent distribution. When rendered with semi-transparency, this creates a complex, organic volume where denser regions appear more opaque and lighter regions fade away. This approach is commonly used in visual effects, procedural content generation, and scientific simulations involving chaotic systems. It allows students to explore how irregular or unstructured data can still produce meaningful visual patterns through volume rendering techniques."
   ]
  },
  {
   "cell_type": "code",
   "execution_count": 8,
   "id": "263387d0-8c11-4913-8438-d8fb81827942",
   "metadata": {},
   "outputs": [
    {
     "data": {
      "application/vnd.jupyter.widget-view+json": {
       "model_id": "93371b6e413c4d89a1e1fa48a7e60aef",
       "version_major": 2,
       "version_minor": 0
      },
      "text/plain": [
       "Output()"
      ]
     },
     "metadata": {},
     "output_type": "display_data"
    }
   ],
   "source": [
    "import k3d\n",
    "import numpy as np\n",
    "\n",
    "# Random noise scalar field\n",
    "size = 32\n",
    "field = np.random.rand(size, size, size).astype(np.float32)\n",
    "\n",
    "plot = k3d.plot()\n",
    "plot += k3d.volume(field)\n",
    "plot.display()"
   ]
  },
  {
   "cell_type": "markdown",
   "id": "374aa31a-0484-467d-bd6c-74c1c05cd74d",
   "metadata": {},
   "source": [
    "---\n",
    "\n",
    "## Example 5: Animated Isosurface from a Dynamic Scalar Field\n",
    "\n",
    "This example illustrates how to create an animated isosurface by extracting it from a time-varying 3D scalar field. A mathematical function, such as a sinusoidal expression involving both space and time, is used to define the scalar values within a voxel grid. As time progresses, the scalar field evolves, and a new isosurface is extracted at each frame using the Marching Cubes algorithm. The result is a smooth, continuous surface that changes shape over time, creating a visually compelling animation. This technique is ideal for simulating dynamic phenomena such as wave propagation, fluid flow, or morphing shapes, and provides a powerful way to visualize how internal structures evolve in response to changing scalar values.\n",
    "\n",
    "In the following example we will animate a changing scalar field and re-extract the surface using Marching Cubes at each step."
   ]
  },
  {
   "cell_type": "code",
   "execution_count": 10,
   "id": "06911435-bd04-49ce-a65a-5ce902fb6b07",
   "metadata": {},
   "outputs": [
    {
     "data": {
      "application/vnd.jupyter.widget-view+json": {
       "model_id": "f7e6261d14464680947f8703912906d9",
       "version_major": 2,
       "version_minor": 0
      },
      "text/plain": [
       "Output()"
      ]
     },
     "metadata": {},
     "output_type": "display_data"
    }
   ],
   "source": [
    "import k3d\n",
    "import numpy as np\n",
    "import time\n",
    "\n",
    "# Create initial scalar field (sine wave in 3D space)\n",
    "size = 32\n",
    "x, y, z = np.meshgrid(\n",
    "    np.linspace(-2, 2, size),\n",
    "    np.linspace(-2, 2, size),\n",
    "    np.linspace(-2, 2, size),\n",
    "    indexing='ij'\n",
    ")\n",
    "\n",
    "# Create K3D plot\n",
    "plot = k3d.plot()\n",
    "iso_surface = None  # Placeholder for our animated surface\n",
    "plot.display()\n",
    "\n",
    "# Animation loop (generate changing field & re-apply marching cubes)\n",
    "for t in range(50):\n",
    "    scalar_field = np.sin(x**2 + y**2 + z**2 - t * 0.1)\n",
    "    \n",
    "    # Normalize for stability\n",
    "    field_norm = (scalar_field - scalar_field.min()) / scalar_field.ptp()\n",
    "    \n",
    "    # Extract isosurface at level = 0.5\n",
    "    new_surface = k3d.marching_cubes(\n",
    "        field_norm.astype(np.float32),\n",
    "        level=0.5,\n",
    "        color=0x0077ff,\n",
    "        wireframe=False\n",
    "    )\n",
    "\n",
    "    # Remove old surface and add new one\n",
    "    if iso_surface:\n",
    "        plot -= iso_surface\n",
    "    iso_surface = new_surface\n",
    "    plot += iso_surface\n",
    "\n",
    "    time.sleep(0.1)"
   ]
  },
  {
   "cell_type": "markdown",
   "id": "3a7b2b75-710b-4674-828b-1785286bd232",
   "metadata": {},
   "source": [
    "---\n",
    "\n",
    "## Example 6: Animated Isosurface Evolution\n",
    "\n",
    "Animated isosurface evolution is a dynamic visualization technique that shows how surfaces derived from a scalar field change over time. By continuously updating the scalar field—using mathematical functions or simulation data—and applying the Marching Cubes algorithm at each frame, the isosurface can be made to appear as if it's morphing, pulsating, or flowing. This evolving surface helps convey complex behaviors like deformation, diffusion, or cyclic phenomena. The smooth transitions between frames provide an intuitive understanding of temporal changes in 3D data, making this technique especially useful for educational demonstrations, scientific simulations, and animated visual storytelling.\n",
    "\n",
    "This example animates a dynamic scalar field and visualizes it using the Marching Cubes algorithm. It’s a great wrap-up exercise combining volume generation, isosurface extraction, animation, and visual storytelling."
   ]
  },
  {
   "cell_type": "code",
   "execution_count": 96,
   "id": "b1d2c4b6-3bf8-48d1-b1a1-92f5458bf98a",
   "metadata": {},
   "outputs": [
    {
     "data": {
      "application/vnd.jupyter.widget-view+json": {
       "model_id": "69befcd1eac340ab84e01c2625eebb30",
       "version_major": 2,
       "version_minor": 0
      },
      "text/plain": [
       "Output()"
      ]
     },
     "metadata": {},
     "output_type": "display_data"
    }
   ],
   "source": [
    "import k3d\n",
    "import numpy as np\n",
    "import time\n",
    "\n",
    "# Create a 3D grid (volumetric space)\n",
    "size = 32\n",
    "x, y, z = np.meshgrid(\n",
    "    np.linspace(-3, 3, size),\n",
    "    np.linspace(-3, 3, size),\n",
    "    np.linspace(-3, 3, size),\n",
    "    indexing='ij'\n",
    ")\n",
    "\n",
    "# Initialize the plot\n",
    "plot = k3d.plot()\n",
    "plot.display()\n",
    "\n",
    "# Placeholder for dynamic surface object\n",
    "iso_surface = None\n",
    "\n",
    "# Animate over time\n",
    "for t in range(50):\n",
    "    # Generate a dynamic scalar field using trigonometric wave\n",
    "    scalar_field = np.sin(x**2 + y**2 + z**2 - t * 0.2)\n",
    "\n",
    "    # Normalize values between 0 and 1\n",
    "    scalar_field = (scalar_field - scalar_field.min()) / (scalar_field.ptp() + 1e-8)\n",
    "\n",
    "    # Extract isosurface using Marching Cubes\n",
    "    surface = k3d.marching_cubes(\n",
    "        scalar_field.astype(np.float32),\n",
    "        level=0.5,\n",
    "        color=0xff9900,\n",
    "        wireframe=False\n",
    "    )\n",
    "\n",
    "    # Replace previous surface in plot\n",
    "    if iso_surface:\n",
    "        plot -= iso_surface\n",
    "    iso_surface = surface\n",
    "    plot += iso_surface\n",
    "\n",
    "    time.sleep(0.05)  # control animation speed"
   ]
  },
  {
   "cell_type": "markdown",
   "id": "74637576-791f-4079-a177-e65f0b303334",
   "metadata": {},
   "source": [
    "---\n",
    "## Tasks\n",
    "---"
   ]
  },
  {
   "cell_type": "markdown",
   "id": "394b19f7-bb78-46ba-85b6-5b4c37e10fb2",
   "metadata": {},
   "source": [
    "### Task 1: Volume Rendering of a Custom Scalar Field\n",
    "\n",
    "Create and visualize your own 3D scalar field using k3d.volume().\n",
    "Steps:\n",
    "- Define a 3D grid using np.indices() or np.meshgrid().\n",
    "- Fill it with scalar values using a custom function (e.g., Gaussian blob, random noise, sine-based waves).\n",
    "- Normalize the scalar values between 0 and 1.\n",
    "- Visualize it using k3d.volume() and experiment with different scalar field resolutions.\n",
    "\n",
    "The outcome is to understand how scalar fields look internally and how resolution affects visual detail.\n",
    "\n",
    "---"
   ]
  },
  {
   "cell_type": "code",
   "execution_count": 130,
   "id": "e64962c3-2cfc-400e-8dd5-d304809f5bdf",
   "metadata": {},
   "outputs": [
    {
     "data": {
      "application/vnd.jupyter.widget-view+json": {
       "model_id": "629b2d8788e747acb96b53660a262fe2",
       "version_major": 2,
       "version_minor": 0
      },
      "text/plain": [
       "Output()"
      ]
     },
     "metadata": {},
     "output_type": "display_data"
    }
   ],
   "source": [
    "import k3d\n",
    "import numpy as np\n",
    "\n",
    "size = 128\n",
    "x, y, z = np.meshgrid(\n",
    "    np.linspace(-2, 2, size),\n",
    "    np.linspace(-2, 2, size),\n",
    "    np.linspace(-2, 2, size),\n",
    "    indexing='ij'\n",
    ")\n",
    "\n",
    "gaussian_blob = np.exp(-(x**2 + y**2 + z**2))\n",
    "wave = np.sin(3 * (x**2 + y**2 + z**2))\n",
    "\n",
    "field = gaussian_blob + wave\n",
    "\n",
    "field_norm = (field - field.min()) / field.ptp()\n",
    "\n",
    "plot = k3d.plot()\n",
    "plot += k3d.volume(field_norm.astype(np.float32))\n",
    "plot.display()\n"
   ]
  },
  {
   "cell_type": "markdown",
   "id": "5398041a-3f45-4027-861d-7b3dcc43d783",
   "metadata": {},
   "source": [
    "### Task 2: Compare Marching Cubes Results for Different Isosurface Levels\n",
    "\n",
    "Extract and compare multiple surfaces from the same scalar field using different level values.\n",
    "Steps:\n",
    "- Generate a scalar field (e.g., spherical or sinusoidal).\n",
    "- Extract 3 surfaces using k3d.marching_cubes() with thresholds level=0.3, 0.5, and 0.7.\n",
    "- Assign each surface a different color.\n",
    "- Display them together in the same plot to compare.\n",
    "\n",
    "The outcome is to visualize how the isosurface threshold affects the geometry and topology of extracted surfaces.\n",
    "\n",
    "---"
   ]
  },
  {
   "cell_type": "code",
   "execution_count": 129,
   "id": "c525989b-7166-4544-8447-e9a6dcd8b053",
   "metadata": {},
   "outputs": [
    {
     "data": {
      "application/vnd.jupyter.widget-view+json": {
       "model_id": "cd3589e2e5764bb58928a36840eee14d",
       "version_major": 2,
       "version_minor": 0
      },
      "text/plain": [
       "Output()"
      ]
     },
     "metadata": {},
     "output_type": "display_data"
    }
   ],
   "source": [
    "import k3d\n",
    "import numpy as np\n",
    "\n",
    "size = 32\n",
    "x, y, z = np.meshgrid(\n",
    "    np.linspace(-2, 2, size),\n",
    "    np.linspace(-2, 2, size),\n",
    "    np.linspace(-2, 2, size),\n",
    "    indexing='ij'\n",
    ")\n",
    "scalar_field = np.sqrt(x**2 + y**2 + z**2)\n",
    "field_norm = (scalar_field - scalar_field.min()) / scalar_field.ptp()\n",
    "\n",
    "plot = k3d.plot()\n",
    "\n",
    "iso1 = k3d.marching_cubes(\n",
    "    field_norm.astype(np.float32),\n",
    "    level=0.3,\n",
    "    color=0xff0000,\n",
    "    opacity=1,        \n",
    "    wireframe=False\n",
    ")\n",
    "\n",
    "iso2 = k3d.marching_cubes(\n",
    "    field_norm.astype(np.float32),\n",
    "    level=0.5,\n",
    "    color=0x00ff00,\n",
    "    opacity=0.5,\n",
    "    wireframe=False\n",
    ")\n",
    "\n",
    "iso3 = k3d.marching_cubes(\n",
    "    field_norm.astype(np.float32),\n",
    "    level=0.7,\n",
    "    color=0x0000ff,\n",
    "    opacity=0.3,        \n",
    "    wireframe=False\n",
    ")\n",
    "\n",
    "plot += iso1\n",
    "plot += iso2\n",
    "plot += iso3\n",
    "\n",
    "plot.display()"
   ]
  },
  {
   "cell_type": "markdown",
   "id": "2f3e017c-1f2f-49dc-8fb7-7b218658dddd",
   "metadata": {},
   "source": [
    "### Task 3: Animate a Growing Sphere Using Marching Cubes\n",
    "\n",
    "Simulate a growing or shrinking object (e.g., a pulsating sphere) using animated scalar fields and Marching Cubes.\n",
    "Steps:\n",
    "- In a loop, generate a scalar field of a moving or growing 3D shape (e.g., increase radius over time).\n",
    "- Re-extract the surface at each step using marching_cubes.\n",
    "- Animate by updating the surface on each frame.\n",
    "- Experiment with animation speed, resolution, and color.\n",
    "\n",
    "The outcome is to combine surface extraction with dynamic scalar field updates.\n",
    "\n",
    "---"
   ]
  },
  {
   "cell_type": "code",
   "execution_count": 128,
   "id": "27c2622d-884a-4acc-bf05-0e97cd03f1f2",
   "metadata": {},
   "outputs": [
    {
     "data": {
      "application/vnd.jupyter.widget-view+json": {
       "model_id": "3299a42bc0f641d7aa4e72b2c82d1f9d",
       "version_major": 2,
       "version_minor": 0
      },
      "text/plain": [
       "Output()"
      ]
     },
     "metadata": {},
     "output_type": "display_data"
    }
   ],
   "source": [
    "import numpy as np\n",
    "import k3d\n",
    "import time\n",
    "\n",
    "size = 50\n",
    "x, y, z = np.indices((size, size, size)) - size // 2\n",
    "x = x / size\n",
    "y = y / size\n",
    "z = z / size\n",
    "\n",
    "r = np.sqrt(x**2 + y**2 + z**2)\n",
    "field = (r - 0.2).astype(np.float32)   \n",
    "\n",
    "# 3. Marching Cubes objekat\n",
    "mc = k3d.marching_cubes(field, level=0.0, color=0xff9900)\n",
    "plot = k3d.plot()\n",
    "plot += mc\n",
    "plot.display()\n",
    "\n",
    "# 4. Animacija pulsiranja\n",
    "for t in range(200):\n",
    "    radius = 0.2 + 0.1 * np.sin(t * 0.1)\n",
    "\n",
    "    field = (r - radius).astype(np.float32)\n",
    "\n",
    "    mc.scalar_field = field\n",
    "\n",
    "    time.sleep(0.03)\n"
   ]
  },
  {
   "cell_type": "markdown",
   "id": "c105e79c-04d9-4514-ba19-d9579340ab9b",
   "metadata": {},
   "source": [
    "### Task 4: Surface Coloring Based on Distance from Origin\n",
    "\n",
    "Color a mesh or isosurface based on the distance from the origin to each vertex.\n",
    "Steps:\n",
    "- Create a 3D scalar field (e.g., spherical gradient).\n",
    "- Extract the surface using marching_cubes.\n",
    "- Instead of using a flat color, compute distance of each voxel/vertex from the center and use that as a scalar attribute.\n",
    "- Apply a color map to visualize the attribute (e.g., blue = near center, red = far).\n",
    "- If attribute mapping doesn't work, simulate the effect using per-vertex colors or extract the surface geometry manually.\n",
    "\n",
    "Outcome is to introduce metadata or calculated attributes to enhance surface interpretation.\n",
    "\n",
    "---\n"
   ]
  },
  {
   "cell_type": "code",
   "execution_count": 127,
   "id": "30465dee-1548-4bdc-a86b-a7b10cec1e5b",
   "metadata": {},
   "outputs": [
    {
     "data": {
      "application/vnd.jupyter.widget-view+json": {
       "model_id": "85be7868015c4c3c9a8695de9499af43",
       "version_major": 2,
       "version_minor": 0
      },
      "text/plain": [
       "Output()"
      ]
     },
     "metadata": {},
     "output_type": "display_data"
    }
   ],
   "source": [
    "import numpy as np\n",
    "import k3d\n",
    "from skimage.measure import marching_cubes\n",
    "\n",
    "size = 128\n",
    "lin = np.linspace(-1, 1, size)\n",
    "x, y, z = np.meshgrid(lin, lin, lin, indexing='ij')\n",
    "\n",
    "r = np.sqrt(x**2 + y**2 + z**2)\n",
    "field = (r < 1.0).astype(np.float32)  \n",
    "\n",
    "verts, faces, _, _ = marching_cubes(\n",
    "    field,\n",
    "    level=0.9,\n",
    "    spacing=(lin[1]-lin[0],)*3,  \n",
    ")\n",
    "\n",
    "verts = verts + lin[0]\n",
    "\n",
    "\n",
    "dists = np.linalg.norm(verts, axis=1)\n",
    "norm_dists = (dists - dists.min()) / (dists.max() - dists.min())\n",
    "\n",
    "mesh = k3d.mesh(\n",
    "    vertices=verts.astype(np.float32),\n",
    "    indices=faces.astype(np.uint32),\n",
    "    attribute=norm_dists.astype(np.float32),\n",
    "    color_map=k3d.basic_color_maps.Jet\n",
    ")\n",
    "\n",
    "plot = k3d.plot()\n",
    "plot += mesh\n",
    "plot.display()\n"
   ]
  }
 ],
 "metadata": {
  "kernelspec": {
   "display_name": "Python [conda env:base] *",
   "language": "python",
   "name": "conda-base-py"
  },
  "language_info": {
   "codemirror_mode": {
    "name": "ipython",
    "version": 3
   },
   "file_extension": ".py",
   "mimetype": "text/x-python",
   "name": "python",
   "nbconvert_exporter": "python",
   "pygments_lexer": "ipython3",
   "version": "3.12.2"
  }
 },
 "nbformat": 4,
 "nbformat_minor": 5
}
